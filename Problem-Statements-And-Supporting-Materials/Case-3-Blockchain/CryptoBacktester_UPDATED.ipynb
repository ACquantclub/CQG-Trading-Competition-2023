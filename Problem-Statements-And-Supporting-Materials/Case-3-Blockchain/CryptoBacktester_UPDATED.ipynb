{
 "cells": [
  {
   "cell_type": "code",
   "execution_count": 1,
   "metadata": {},
   "outputs": [],
   "source": [
    "import pandas as pd\n",
    "import matplotlib as plt\n",
    "import matplotlib.pyplot as plt\n",
    "import random\n",
    "from datetime import datetime, timedelta"
   ]
  },
  {
   "cell_type": "markdown",
   "metadata": {},
   "source": [
    "# Cryptocurrency Case Study Backtester"
   ]
  },
  {
   "cell_type": "code",
   "execution_count": 2,
   "metadata": {},
   "outputs": [],
   "source": [
    "#importing data !\n",
    "b1 = pd.read_csv('./CTC23_Blockchain_Data/BTC_Futures1.csv')\n",
    "b2 = pd.read_csv('./CTC23_Blockchain_Data/BTC_Futures2.csv')\n",
    "b3 = pd.read_csv('./CTC23_Blockchain_Data/BTC_Futures3.csv')\n",
    "b4 = pd.read_csv('./CTC23_Blockchain_Data/BTC_Futures4.csv')\n",
    "b5 = pd.read_csv('./CTC23_Blockchain_Data/BTC_Futures5.csv')\n",
    "b6 = pd.read_csv('./CTC23_Blockchain_Data/BTC_Futures6.csv')\n",
    "b7 = pd.read_csv('./CTC23_Blockchain_Data/BTC_Futures7.csv')\n",
    "b8 = pd.read_csv('./CTC23_Blockchain_Data/BTC_Futures8.csv')\n",
    "b9 = pd.read_csv('./CTC23_Blockchain_Data/BTC_Futures9.csv')\n",
    "b10 = pd.read_csv('./CTC23_Blockchain_Data/BTC_Futures10.csv')\n",
    "b11 = pd.read_csv('./CTC23_Blockchain_Data/BTC_Futures11.csv')\n",
    "b12 = pd.read_csv('./CTC23_Blockchain_Data/BTC_Futures12.csv')\n",
    "b13 = pd.read_csv('./CTC23_Blockchain_Data/BTC_Futures13.csv')\n",
    "b14 = pd.read_csv('./CTC23_Blockchain_Data/BTC_Futures14.csv')\n",
    "b15 = pd.read_csv('./CTC23_Blockchain_Data/BTC_Futures15.csv')\n",
    "b16 = pd.read_csv('./CTC23_Blockchain_Data/BTC_Futures16.csv')\n",
    "b17 = pd.read_csv('./CTC23_Blockchain_Data/BTC_Futures17.csv')\n",
    "b18 = pd.read_csv('./CTC23_Blockchain_Data/BTC_Futures18.csv')\n",
    "b19 = pd.read_csv('./CTC23_Blockchain_Data/BTC_Futures19.csv')\n",
    "b20 = pd.read_csv('./CTC23_Blockchain_Data/BTC_Futures20.csv')\n",
    "b21 = pd.read_csv('./CTC23_Blockchain_Data/BTC_Futures21.csv')\n",
    "b22 = pd.read_csv('./CTC23_Blockchain_Data/BTC_Futures22.csv')\n",
    "b23 = pd.read_csv('./CTC23_Blockchain_Data/BTC_Futures23.csv')\n",
    "b24 = pd.read_csv('./CTC23_Blockchain_Data/BTC_Futures24.csv')"
   ]
  },
  {
   "cell_type": "code",
   "execution_count": 3,
   "metadata": {},
   "outputs": [],
   "source": [
    "allData = [b1, b2, b3, b4, b5, b6, b7, b8, b9, b10, b11, b12, b13, b14, b15, b16, b17, b18, b19, b20, b21, b22, b23, b24]\n",
    "data = pd.concat(allData, ignore_index=True)\n",
    "\n",
    "#FOR COMPETITORS: Don't forget to convert the first column to a datetime object"
   ]
  },
  {
   "cell_type": "code",
   "execution_count": 5,
   "metadata": {},
   "outputs": [],
   "source": [
    "#add your positions here\n",
    "\n",
    "#positions = pd.DataFrame({\n",
    "#    \"DATETIME\": ts_recv, \n",
    "#    \"POSITION\": positions})\n"
   ]
  },
  {
   "cell_type": "code",
   "execution_count": 4,
   "metadata": {},
   "outputs": [],
   "source": [
    "'''\n",
    "Given a dataframe of positions check that the dates and positions are valid.\n",
    "'''\n",
    "\n",
    "def check_crypto_output(marketdata, positions):\n",
    "    # check if positions is a dataframe\n",
    "    assert isinstance(positions, pd.DataFrame), \"positions should be a dataframe\"\n",
    "    assert \"DATETIME\" in positions.columns, \"positions dataframe does not have 'DATETIME' column, please read naming specifications\"\n",
    "    \n",
    "    # check whether every value in 'DATETIME' is a datetime object\n",
    "    assert positions['DATETIME'].apply(lambda x: isinstance(x, pd.Timestamp)).all(), \"every element in 'DATETIME' column of positions should be a datetime object\"\n",
    "\n",
    "    # check if right number of dates, and that they are equal\n",
    "    assert pd.to_datetime(marketdata['ts_event']).equals(positions['DATETIME']), \"the 'DATETIME' column of positions should match 'ts_event' of marketdata column\"\n",
    "    \n",
    "    # check if all outputs are valid\n",
    "    assert all(positions['POSITION'].isin([-1, 0, 1])), \"all values in 'DATETIME' column need to be either -1, 0 or 1\""
   ]
  },
  {
   "cell_type": "code",
   "execution_count": 7,
   "metadata": {},
   "outputs": [],
   "source": [
    "check_crypto_output(data, positions)"
   ]
  },
  {
   "cell_type": "code",
   "execution_count": 8,
   "metadata": {},
   "outputs": [
    {
     "data": {
      "text/html": [
       "<div>\n",
       "<style scoped>\n",
       "    .dataframe tbody tr th:only-of-type {\n",
       "        vertical-align: middle;\n",
       "    }\n",
       "\n",
       "    .dataframe tbody tr th {\n",
       "        vertical-align: top;\n",
       "    }\n",
       "\n",
       "    .dataframe thead th {\n",
       "        text-align: right;\n",
       "    }\n",
       "</style>\n",
       "<table border=\"1\" class=\"dataframe\">\n",
       "  <thead>\n",
       "    <tr style=\"text-align: right;\">\n",
       "      <th></th>\n",
       "      <th>DATETIME</th>\n",
       "      <th>POSITION</th>\n",
       "    </tr>\n",
       "  </thead>\n",
       "  <tbody>\n",
       "    <tr>\n",
       "      <th>0</th>\n",
       "      <td>2019-10-01 00:00:01.973454336</td>\n",
       "      <td>-1</td>\n",
       "    </tr>\n",
       "    <tr>\n",
       "      <th>1</th>\n",
       "      <td>2019-10-01 00:00:09.224500736</td>\n",
       "      <td>1</td>\n",
       "    </tr>\n",
       "    <tr>\n",
       "      <th>2</th>\n",
       "      <td>2019-10-01 00:00:10.910937600</td>\n",
       "      <td>1</td>\n",
       "    </tr>\n",
       "    <tr>\n",
       "      <th>3</th>\n",
       "      <td>2019-10-01 00:00:11.183918336</td>\n",
       "      <td>1</td>\n",
       "    </tr>\n",
       "    <tr>\n",
       "      <th>4</th>\n",
       "      <td>2019-10-01 00:00:12.014056448</td>\n",
       "      <td>0</td>\n",
       "    </tr>\n",
       "    <tr>\n",
       "      <th>...</th>\n",
       "      <td>...</td>\n",
       "      <td>...</td>\n",
       "    </tr>\n",
       "    <tr>\n",
       "      <th>1212565</th>\n",
       "      <td>2019-11-29 18:13:00.570803712</td>\n",
       "      <td>-1</td>\n",
       "    </tr>\n",
       "    <tr>\n",
       "      <th>1212566</th>\n",
       "      <td>2019-11-29 18:13:19.066600704</td>\n",
       "      <td>0</td>\n",
       "    </tr>\n",
       "    <tr>\n",
       "      <th>1212567</th>\n",
       "      <td>2019-11-29 18:13:49.742037504</td>\n",
       "      <td>0</td>\n",
       "    </tr>\n",
       "    <tr>\n",
       "      <th>1212568</th>\n",
       "      <td>2019-11-29 18:14:21.043888128</td>\n",
       "      <td>1</td>\n",
       "    </tr>\n",
       "    <tr>\n",
       "      <th>1212569</th>\n",
       "      <td>2019-11-29 18:15:00.068145152</td>\n",
       "      <td>0</td>\n",
       "    </tr>\n",
       "  </tbody>\n",
       "</table>\n",
       "<p>1212570 rows × 2 columns</p>\n",
       "</div>"
      ],
      "text/plain": [
       "                             DATETIME  POSITION\n",
       "0       2019-10-01 00:00:01.973454336        -1\n",
       "1       2019-10-01 00:00:09.224500736         1\n",
       "2       2019-10-01 00:00:10.910937600         1\n",
       "3       2019-10-01 00:00:11.183918336         1\n",
       "4       2019-10-01 00:00:12.014056448         0\n",
       "...                               ...       ...\n",
       "1212565 2019-11-29 18:13:00.570803712        -1\n",
       "1212566 2019-11-29 18:13:19.066600704         0\n",
       "1212567 2019-11-29 18:13:49.742037504         0\n",
       "1212568 2019-11-29 18:14:21.043888128         1\n",
       "1212569 2019-11-29 18:15:00.068145152         0\n",
       "\n",
       "[1212570 rows x 2 columns]"
      ]
     },
     "execution_count": 8,
     "metadata": {},
     "output_type": "execute_result"
    }
   ],
   "source": [
    "positions"
   ]
  },
  {
   "cell_type": "code",
   "execution_count": 5,
   "metadata": {},
   "outputs": [],
   "source": [
    "'''\n",
    "Overview: given a list of positions use provided market data to find the \n",
    "overall pnl.\n",
    "'''\n",
    "\n",
    "def backtest(marketdata: pd.DataFrame, positions: pd.DataFrame, y_list) -> None:\n",
    "   check_crypto_output(marketdata, positions)\n",
    "   return check_pnl(marketdata, positions, y_list)\n",
    "\n",
    "\n",
    "def check_pnl(marketdata: pd.DataFrame, positions: pd.DataFrame, y_list) -> None:\n",
    "    pnl = 0  # inital capital is 0 dollars\n",
    "    curpos = 0 # setting initial position to neutral\n",
    "    spread_cost = 0 # track total spread\n",
    "    \n",
    "    for index, row in marketdata.iterrows():\n",
    "        bid_price = row['bid_px_00']\n",
    "        ask_price = row['ask_px_00']\n",
    "        signal = positions.loc[index, 'POSITION'] # whether we buy or sell\n",
    "        \n",
    "        # calculate spread cost\n",
    "        spread = (ask_price - bid_price)/2\n",
    "        \n",
    "        #Note: You effectively trade at the midpoint at each time period, \n",
    "        #and are compensated for the spread when you both open and close a position. \n",
    "\n",
    "        # return to neutral\n",
    "        if curpos == -1:\n",
    "            pnl -= ask_price\n",
    "        elif curpos == 1:\n",
    "            pnl += bid_price\n",
    "        \n",
    "        # add spread\n",
    "        if curpos != 0:\n",
    "            spread_cost += spread\n",
    "\n",
    "        # perform trade\n",
    "        if signal == 1:\n",
    "            pnl -= ask_price\n",
    "        elif signal == -1:\n",
    "            pnl += bid_price\n",
    "        \n",
    "        # add spread\n",
    "        if signal != 0:\n",
    "            spread_cost += spread\n",
    "        \n",
    "        # update position\n",
    "        curpos = signal\n",
    "\n",
    "        \n",
    "        #Calculate PNL if we were to close - for graph\n",
    "        pnl_close=pnl\n",
    "        spread_close=spread_cost\n",
    "        \n",
    "        if curpos == -1:\n",
    "            pnl_close -= ask_price\n",
    "        elif curpos == 1:\n",
    "            pnl_close += bid_price\n",
    "        if curpos != 0:\n",
    "            spread_close += spread\n",
    "        \n",
    "        y_list.append(pnl_close+spread_close)\n",
    "\n",
    "    \n",
    "    # return to neutral\n",
    "    if curpos == -1:\n",
    "        pnl -= ask_price\n",
    "    elif curpos == 1:\n",
    "        pnl += bid_price\n",
    "    \n",
    "    # add spread\n",
    "    if curpos != 0:\n",
    "        spread_cost += spread\n",
    "\n",
    "    return (pnl + spread_cost)\n"
   ]
  },
  {
   "cell_type": "code",
   "execution_count": 10,
   "metadata": {},
   "outputs": [
    {
     "data": {
      "text/plain": [
       "2.76685257395094e+19"
      ]
     },
     "execution_count": 10,
     "metadata": {},
     "output_type": "execute_result"
    }
   ],
   "source": [
    "pnl_on_day = []\n",
    "backtest(data, positions, pnl_on_day)\n"
   ]
  },
  {
   "cell_type": "code",
   "execution_count": 11,
   "metadata": {},
   "outputs": [
    {
     "data": {
      "text/plain": [
       "Text(0, 0.5, 'PNL')"
      ]
     },
     "execution_count": 11,
     "metadata": {},
     "output_type": "execute_result"
    },
    {
     "data": {
      "image/png": "[encoded data removed]",
      "text/plain": [
       "<Figure size 640x480 with 1 Axes>"
      ]
     },
     "metadata": {},
     "output_type": "display_data"
    }
   ],
   "source": [
    "plt.plot(positions['DATETIME'], pnl_on_day)\n",
    "plt.title('Timestamps vs. PNL')\n",
    "plt.xlabel('Timestamps')\n",
    "plt.ylabel('PNL')"
   ]
  },
  {
   "cell_type": "code",
   "execution_count": null,
   "metadata": {},
   "outputs": [],
   "source": []
  }
 ],
 "metadata": {
  "kernelspec": {
   "display_name": "Python 3",
   "language": "python",
   "name": "python3"
  },
  "language_info": {
   "codemirror_mode": {
    "name": "ipython",
    "version": 3
   },
   "file_extension": ".py",
   "mimetype": "text/x-python",
   "name": "python",
   "nbconvert_exporter": "python",
   "pygments_lexer": "ipython3",
   "version": "3.12.0"
  },
  "vscode": {
   "interpreter": {
    "hash": "31f2aee4e71d21fbe5cf8b01ff0e069b9275f58929596ceb00d14d90e3e16cd6"
   }
  }
 },
 "nbformat": 4,
 "nbformat_minor": 2
}
